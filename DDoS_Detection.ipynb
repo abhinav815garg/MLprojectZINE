{
  "cells": [
    {
      "cell_type": "code",
      "execution_count": null,
      "metadata": {
        "id": "vHIvSeRHn6pz"
      },
      "outputs": [],
      "source": [
        "import pandas as pd\n",
        "import matplotlib.pyplot as plt\n",
        "import seaborn as sn\n",
        "from sklearn.model_selection import train_test_split\n",
        "from sklearn.metrics import accuracy_score\n",
        "from sklearn.metrics import confusion_matrix\n",
        "from sklearn.metrics import classification_report\n",
        "from sklearn.svm import SVC\n",
        "from sklearn.neighbors import KNeighborsClassifier\n",
        "from sklearn.naive_bayes import GaussianNB\n",
        "from sklearn.ensemble import RandomForestClassifier\n",
        "from sklearn.tree import DecisionTreeClassifier\n",
        "from sklearn.linear_model import LogisticRegression"
      ]
    },
    {
      "cell_type": "code",
      "execution_count": null,
      "metadata": {
        "id": "StRJJuejoBRW"
      },
      "outputs": [],
      "source": [
        "df = pd.read_csv('Dataset.csv')\n",
        "# df = df.iloc[:500000]\n",
        "df"
      ]
    },
    {
      "cell_type": "code",
      "execution_count": null,
      "metadata": {
        "id": "Jz692JEFklnk"
      },
      "outputs": [],
      "source": [
        "df['PKT_TYPE'] = df['PKT_TYPE'].astype('category').cat.codes\n",
        "df['FLAGS'] = df['FLAGS'].astype('category').cat.codes\n",
        "df['NODE_NAME_FROM'] = df['NODE_NAME_FROM'].astype('category').cat.codes\n",
        "df['NODE_NAME_TO'] = df['NODE_NAME_TO'].astype('category').cat.codes\n",
        "df"
      ]
    },
    {
      "cell_type": "code",
      "execution_count": null,
      "metadata": {
        "id": "GSHctlWDBave"
      },
      "outputs": [],
      "source": [
        "for i in range(len(df)):\n",
        "  if df.loc[i, \"PKT_CLASS\"] == \"b'Normal'\":\n",
        "    df.loc[i, \"PKT_CLASS\"] = 0 #Not DDoS\n",
        "  else:\n",
        "    df.loc[i, \"PKT_CLASS\"] = 1 #DDoS"
      ]
    },
    {
      "cell_type": "code",
      "execution_count": null,
      "metadata": {
        "id": "jbxM29ckDCzW"
      },
      "outputs": [],
      "source": [
        "df"
      ]
    },
    {
      "cell_type": "code",
      "execution_count": null,
      "metadata": {
        "id": "1i9YqeTvoE9R"
      },
      "outputs": [],
      "source": [
        "X = df.iloc[:, :-1]\n",
        "y = df.iloc[:, -1]"
      ]
    },
    {
      "cell_type": "code",
      "execution_count": null,
      "metadata": {
        "id": "QTU0REPIsLkr"
      },
      "outputs": [],
      "source": [
        "X = X[:len(df)]\n",
        "y = y[:len(df)]"
      ]
    },
    {
      "cell_type": "code",
      "execution_count": null,
      "metadata": {
        "id": "rKJvmRWUpLTE"
      },
      "outputs": [],
      "source": [
        "# X"
      ]
    },
    {
      "cell_type": "code",
      "execution_count": null,
      "metadata": {
        "id": "JY6w3EOypMWw"
      },
      "outputs": [],
      "source": [
        "# y"
      ]
    },
    {
      "cell_type": "code",
      "execution_count": null,
      "metadata": {
        "id": "YAa_GU2poLWD"
      },
      "outputs": [],
      "source": [
        "X_train, X_test, y_train, y_test = train_test_split(X, y, test_size=0.3, random_state=50)"
      ]
    },
    {
      "cell_type": "code",
      "execution_count": null,
      "metadata": {
        "id": "AFwfQpwIsnIO"
      },
      "outputs": [],
      "source": [
        "# print(X_train)\n",
        "# print(y_train)\n",
        "# print(X_test)\n",
        "# print(y_tesst)"
      ]
    },
    {
      "cell_type": "code",
      "execution_count": null,
      "metadata": {
        "id": "NiTvtIrzdfAG"
      },
      "outputs": [],
      "source": [
        "y_train = y_train.astype(str)"
      ]
    },
    {
      "cell_type": "code",
      "execution_count": null,
      "metadata": {
        "id": "9DOj3GSAdosy"
      },
      "outputs": [],
      "source": [
        "y_test = y_test.astype(str)"
      ]
    },
    {
      "cell_type": "code",
      "execution_count": null,
      "metadata": {
        "id": "xePvCTW9oNfN"
      },
      "outputs": [],
      "source": [
        "model1 = SVC(kernel='sigmoid', gamma='auto')\n",
        "model1.fit(X_train, y_train)\n",
        "y_pred1 = model1.predict(X_test)\n",
        "accuracy1 = accuracy_score(y_test, y_pred1) * 100\n",
        "print(\"SVC Accuracy:\", accuracy1, \"%\")\n",
        "conf_mat1 = confusion_matrix(y_test, y_pred1)\n",
        "print(\"\\nSVC Confusion Matrix\")\n",
        "print(conf_mat1)\n",
        "print(\"\\nSVC Classification Report\")\n",
        "print(classification_report(y_test, y_pred1, zero_division=0))\n",
        "# cm1 = pd.crosstab(y_test, y_pred1, rownames=['Actual'], colnames=['Predicted'], margins = True)\n",
        "# sn.heatmap(cm1, annot=True)\n",
        "# plt.show()"
      ]
    },
    {
      "cell_type": "code",
      "execution_count": null,
      "metadata": {
        "id": "jknRBfyhoRMs"
      },
      "outputs": [],
      "source": [
        "model2 = KNeighborsClassifier(n_neighbors=5)\n",
        "model2.fit(X_train, y_train)\n",
        "y_pred2 = model2.predict(X_test)\n",
        "accuracy2 = accuracy_score(y_test, y_pred2) * 100\n",
        "print(\"KNN Accuracy:\", accuracy2, \"%\")\n",
        "conf_mat2 = confusion_matrix(y_test, y_pred2)\n",
        "print(\"\\nKNN Confusion Matrix\")\n",
        "print(conf_mat2)\n",
        "print(\"\\nKNN Classification Report\")\n",
        "print(classification_report(y_test, y_pred2, zero_division=0))\n",
        "# cm2 = pd.crosstab(y_test, y_pred2, rownames=['Actual'], colnames=['Predicted'], margins = True)\n",
        "# sn.heatmap(cm2, annot=True)\n",
        "# plt.show()"
      ]
    },
    {
      "cell_type": "code",
      "execution_count": null,
      "metadata": {
        "id": "PoZ6sO0WoVOw"
      },
      "outputs": [],
      "source": [
        "model3 = GaussianNB()\n",
        "model3.fit(X_train, y_train)\n",
        "y_pred3 = model3.predict(X_test)\n",
        "accuracy3 = accuracy_score(y_test, y_pred3) * 100\n",
        "print(\"GaussianNB Accuracy:\", accuracy3, \"%\")\n",
        "conf_mat3= confusion_matrix(y_test, y_pred3)\n",
        "print(\"\\nGaussianNB Confusion Matrix\")\n",
        "print(conf_mat3)\n",
        "print(\"\\nGaussianNB Classification Report\")\n",
        "print(classification_report(y_test, y_pred3, zero_division=0))\n",
        "# cm3 = pd.crosstab(y_test, y_pred3, rownames=['Actual'], colnames=['Predicted'], margins = True)\n",
        "# sn.heatmap(cm3, annot=True)\n",
        "# plt.show()"
      ]
    },
    {
      "cell_type": "code",
      "execution_count": null,
      "metadata": {
        "id": "sKQoXK24op6R"
      },
      "outputs": [],
      "source": [
        "model4 = RandomForestClassifier(n_estimators=200)\n",
        "model4.fit(X_train, y_train)\n",
        "y_pred4 = model4.predict(X_test)\n",
        "accuracy_rf = accuracy_score(y_test, y_pred4) * 100\n",
        "print(\"RandomForestClassifier Accuracy:\", accuracy_rf, \"%\")\n",
        "conf_mat4= confusion_matrix(y_test, y_pred4)\n",
        "print(\"\\nRandomForestClassifier Confusion Matrix\")\n",
        "print(conf_mat4)\n",
        "print(\"\\nGaussianNB Classification Report\")\n",
        "print(classification_report(y_test, y_pred4, zero_division=0))\n",
        "# cm4 = pd.crosstab(y_test, y_pred4, rownames=['Actual'], colnames=['Predicted'], margins = True)\n",
        "# sn.heatmap(cm4, annot=True)\n",
        "# plt.show()"
      ]
    },
    {
      "cell_type": "code",
      "execution_count": null,
      "metadata": {
        "id": "KBRcvuBc5M20"
      },
      "outputs": [],
      "source": [
        "model5 = DecisionTreeClassifier()\n",
        "model5.fit(X_train, y_train)\n",
        "y_pred5 = model5.predict(X_test)\n",
        "accuracy_rf = accuracy_score(y_test, y_pred5) * 100\n",
        "print(\"DecisionTreeClassifier Accuracy:\", accuracy_rf, \"%\")\n",
        "conf_mat5= confusion_matrix(y_test, y_pred5)\n",
        "print(\"\\nDecisionTreeClassifier Confusion Matrix\")\n",
        "print(conf_mat5)\n",
        "print(\"\\nDecisionTreeClassifier Classification Report\")\n",
        "print(classification_report(y_test, y_pred5, zero_division=0))\n",
        "# cm5 = pd.crosstab(y_test, y_pred5, rownames=['Actual'], colnames=['Predicted'], margins = True)\n",
        "# sn.heatmap(cm5, annot=True)\n",
        "# plt.show()"
      ]
    },
    {
      "cell_type": "code",
      "execution_count": null,
      "metadata": {
        "id": "wQCQ9a-cBgcr"
      },
      "outputs": [],
      "source": [
        "model6 = LogisticRegression()\n",
        "model6.fit(X_train, y_train)\n",
        "y_pred6 = model6.predict(X_test)\n",
        "accuracy_rf = accuracy_score(y_test, y_pred5) * 100\n",
        "print(\"LogisticRegression Accuracy:\", accuracy_rf, \"%\")\n",
        "conf_mat6 = confusion_matrix(y_test, y_pred6)\n",
        "print(\"\\nLogisticRegression Confusion Matrix\")\n",
        "print(conf_mat6)\n",
        "print(\"\\nLogisticRegression Classification Report\")\n",
        "print(classification_report(y_test, y_pred6, zero_division=0))\n",
        "# cm6 = pd.crosstab(y_test, y_pred6, rownames=['Actual'], colnames=['Predicted'], margins = True)\n",
        "# sn.heatmap(cm6, annot=True)\n",
        "# plt.show()"
      ]
    }
  ],
  "metadata": {
    "colab": {
      "provenance": []
    },
    "kernelspec": {
      "display_name": "Python 3",
      "name": "python3"
    },
    "language_info": {
      "name": "python"
    }
  },
  "nbformat": 4,
  "nbformat_minor": 0
}
